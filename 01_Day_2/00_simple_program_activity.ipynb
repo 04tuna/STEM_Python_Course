{
 "cells": [
  {
   "cell_type": "markdown",
   "metadata": {},
   "source": [
    "# 1a \n",
    "Set a variable equal to a number at the top of your cell called \"myNumber\", then print it."
   ]
  },
  {
   "cell_type": "code",
   "execution_count": null,
   "metadata": {},
   "outputs": [],
   "source": []
  },
  {
   "cell_type": "markdown",
   "metadata": {},
   "source": [
    "# 1b\n",
    "Add a second variable called \"guess\", and set it to a different number. Then add an if/else statement that checks if \"guess\" and \"myNumber\" are the same number. If they are, print \"You got it!\", otherwise print \"Try again.\""
   ]
  },
  {
   "cell_type": "code",
   "execution_count": null,
   "metadata": {},
   "outputs": [],
   "source": []
  },
  {
   "cell_type": "markdown",
   "metadata": {},
   "source": [
    "# 1c\n",
    "Ammend your if/else statement to have some extra conditions. Instead of just checking to see if the numbers are equal, check if the guess is less than, greater than, or equal to your number. Print whichever case it is. For example if your number is 10 and the guess is 4, it should print something like \"Too low!\"."
   ]
  },
  {
   "cell_type": "code",
   "execution_count": null,
   "metadata": {},
   "outputs": [],
   "source": []
  },
  {
   "cell_type": "markdown",
   "metadata": {},
   "source": [
    "# 1d\n",
    "Replace the \"guess\" variable from problem 1b with an input number from a user. You can get an input from a user using the \"input\" function. Have the input function print something like \"What is your guess?\". Note that any input from the user will arrive as a \"string\" type, whereas the variable you'll be comparing against will be of \"integer\" type. You can convert from string to integer using the \"int()\" function. Other than this, leave everything the same."
   ]
  },
  {
   "cell_type": "code",
   "execution_count": null,
   "metadata": {},
   "outputs": [],
   "source": []
  },
  {
   "cell_type": "markdown",
   "metadata": {},
   "source": [
    "# 2a\n",
    "Set a variable equal to anything you want at the top of the cell (a number, a word, etc.), and call it \"myVariable\". Create another variable called \"number_of_prints\", and set it equal to some integer number (e.g. 5). Use a for loop to print \"myVariable\" \"number_of_prints\" times. So for example if your variable called \"myVariable\" was set to be the string \"hello\", and \"number_of_prints\" was set to 3, running your cell should produce the following:\n",
    "\n",
    "hello\n",
    "\n",
    "hello\n",
    "\n",
    "hello"
   ]
  },
  {
   "cell_type": "code",
   "execution_count": null,
   "metadata": {},
   "outputs": [],
   "source": []
  },
  {
   "cell_type": "markdown",
   "metadata": {},
   "source": [
    "# 2b\n",
    "Instead of just printing a word, use your code from 2a and problem 1d to ask for a new letter on every loop iteration, then print it. You should basically be able to copy and paste the line of code containing the \"input\" function from 1d into your code from 2a, inside of the for loop. "
   ]
  },
  {
   "cell_type": "code",
   "execution_count": null,
   "metadata": {},
   "outputs": [],
   "source": []
  },
  {
   "cell_type": "markdown",
   "metadata": {},
   "source": [
    "# 3 \n",
    "Take the rest of your code from problem 1 and put it inside of the for loop as well. Replace the variable \"myVariable\" with your \"myNumber\" variable from problem 1a. The code should now ask for a guess on every loop iteration, and compare it to the \"myNumber\" variable. "
   ]
  },
  {
   "cell_type": "code",
   "execution_count": null,
   "metadata": {},
   "outputs": [],
   "source": []
  },
  {
   "cell_type": "markdown",
   "metadata": {},
   "source": [
    "# That's it!\n",
    "You wrote a simple guessing game! Some optional stuff to add:\n",
    "\n",
    "1. Have the loop stop if you get the answer right. This can be done with the \"break\" statement.\n",
    "\n",
    "2. Keep track of the number of guesses on each loop iteration. When the guess is eventually correct, print the number of tries in addition to the statement that says the guess was correct. "
   ]
  }
 ],
 "metadata": {
  "kernelspec": {
   "display_name": "Python 3",
   "language": "python",
   "name": "python3"
  },
  "language_info": {
   "codemirror_mode": {
    "name": "ipython",
    "version": 3
   },
   "file_extension": ".py",
   "mimetype": "text/x-python",
   "name": "python",
   "nbconvert_exporter": "python",
   "pygments_lexer": "ipython3",
   "version": "3.6.8"
  }
 },
 "nbformat": 4,
 "nbformat_minor": 2
}
