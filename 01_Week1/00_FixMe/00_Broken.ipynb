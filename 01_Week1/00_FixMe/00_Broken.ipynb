{
 "cells": [
  {
   "cell_type": "code",
   "execution_count": null,
   "metadata": {},
   "outputs": [],
   "source": [
    "%matplotlib inline\n",
    "# https://inventwithpython.com/blog/2012/07/09/16-common-python-runtime-errors-beginners-find/\n"
   ]
  },
  {
   "cell_type": "markdown",
   "metadata": {},
   "source": [
    "## Fixing Broken Code\n",
    "\n",
    "The following code snipets don't work. Follow along with the [flow chart](https://pythonforbiologists.com/29-common-beginner-errors-on-one-page) and use google and stackoverflow to get these pieces of code working properly."
   ]
  },
  {
   "cell_type": "code",
   "execution_count": null,
   "metadata": {},
   "outputs": [],
   "source": [
    "print(\"Hello\")\n",
    "    print(\"world\")"
   ]
  },
  {
   "cell_type": "code",
   "execution_count": null,
   "metadata": {},
   "outputs": [],
   "source": [
    "def Hello()\n",
    "    print(\"Hello World\")"
   ]
  },
  {
   "cell_type": "code",
   "execution_count": null,
   "metadata": {},
   "outputs": [],
   "source": [
    "science = ['biology', 'physics', 'chemistry']\n",
    "for i in range(science):\n",
    "    print(science[i])"
   ]
  },
  {
   "cell_type": "code",
   "execution_count": null,
   "metadata": {},
   "outputs": [],
   "source": [
    "print(science(3))"
   ]
  },
  {
   "cell_type": "code",
   "execution_count": null,
   "metadata": {},
   "outputs": [],
   "source": [
    "spam = 'My favorite food is Spam!'\n",
    "\n",
    "print(spam[40])"
   ]
  },
  {
   "cell_type": "code",
   "execution_count": null,
   "metadata": {},
   "outputs": [],
   "source": [
    "print(\"My favorite number is \" + 4 + \"!\")"
   ]
  },
  {
   "cell_type": "code",
   "execution_count": null,
   "metadata": {},
   "outputs": [],
   "source": [
    "myName = 'Monty Python'\n",
    "\n",
    "print('My name is ' + myName + . How are you?')"
   ]
  },
  {
   "cell_type": "code",
   "execution_count": null,
   "metadata": {},
   "outputs": [],
   "source": [
    "class = ['biology', 'physics', 'chemistry']"
   ]
  },
  {
   "cell_type": "code",
   "execution_count": null,
   "metadata": {},
   "outputs": [],
   "source": [
    "def answer(MyAnswer):\n",
    "    if MyAnswer = 42:\n",
    "        print(\"Wow you got the answer!\")\n",
    "    else:\n",
    "        print(\"Wrong Answer\")\n",
    "        \n",
    "answer(42)\n",
    "answer()"
   ]
  },
  {
   "cell_type": "code",
   "execution_count": null,
   "metadata": {},
   "outputs": [],
   "source": [
    "def goodBye():\n",
    "    for i in range(0,3):\n",
    "        output.append(\"Bye\")\n",
    "    return output\n",
    "        \n",
    "goodBye()"
   ]
  },
  {
   "cell_type": "code",
   "execution_count": null,
   "metadata": {},
   "outputs": [],
   "source": [
    "def my_random_number():\n",
    "    return np.random.randint(0, 1E5)\n",
    "\n",
    "my_random_number()"
   ]
  },
  {
   "cell_type": "markdown",
   "metadata": {},
   "source": [
    "## Unexpected results\n",
    "\n",
    "The folowing sections of code work but they don't give the expected results. Modify them to get them working the same as the desired output."
   ]
  },
  {
   "cell_type": "markdown",
   "metadata": {},
   "source": [
    "1) Expected:\n",
    "```\n",
    "1\n",
    "2\n",
    "3\n",
    "4\n",
    "5\n",
    "6\n",
    "7\n",
    "8\n",
    "9\n",
    "10\n",
    "```"
   ]
  },
  {
   "cell_type": "code",
   "execution_count": null,
   "metadata": {},
   "outputs": [],
   "source": [
    "for i in range(10):\n",
    "    print(i)"
   ]
  },
  {
   "cell_type": "code",
   "execution_count": null,
   "metadata": {},
   "outputs": [],
   "source": []
  },
  {
   "cell_type": "code",
   "execution_count": null,
   "metadata": {},
   "outputs": [],
   "source": []
  },
  {
   "cell_type": "code",
   "execution_count": null,
   "metadata": {},
   "outputs": [],
   "source": []
  },
  {
   "cell_type": "code",
   "execution_count": null,
   "metadata": {},
   "outputs": [],
   "source": []
  },
  {
   "cell_type": "code",
   "execution_count": null,
   "metadata": {},
   "outputs": [],
   "source": []
  },
  {
   "cell_type": "markdown",
   "metadata": {},
   "source": [
    "Expected:\n",
    "\n",
    "|  index  |   fixed acidity |   volatile acidity |   citric acid |   residual sugar |   chlorides |   free sulfur dioxide |   total sulfur dioxide |   density |   pH |   sulphates |   alcohol |   quality |\n",
    "|---:|----------------:|-------------------:|--------------:|-----------------:|------------:|----------------------:|-----------------------:|----------:|-----:|------------:|----------:|----------:|\n",
    "|  0 |             7.4 |               0.7  |          0    |              1.9 |       0.076 |                    11 |                     34 |    0.9978 | 3.51 |        0.56 |       9.4 |         5 |\n",
    "|  1 |             7.8 |               0.88 |          0    |              2.6 |       0.098 |                    25 |                     67 |    0.9968 | 3.2  |        0.68 |       9.8 |         5 |\n",
    "|  2 |             7.8 |               0.76 |          0.04 |              2.3 |       0.092 |                    15 |                     54 |    0.997  | 3.26 |        0.65 |       9.8 |         5 |\n",
    "|  3 |            11.2 |               0.28 |          0.56 |              1.9 |       0.075 |                    17 |                     60 |    0.998  | 3.16 |        0.58 |       9.8 |         6 |\n",
    "|  4 |             7.4 |               0.7  |          0    |              1.9 |       0.076 |                    11 |                     34 |    0.9978 | 3.51 |        0.56 |       9.4 |         5 |\n",
    "|  5 |             7.4 |               0.66 |          0    |              1.8 |       0.075 |                    13 |                     40 |    0.9978 | 3.51 |        0.56 |       9.4 |         5 |\n",
    "|  6 |             7.9 |               0.6  |          0.06 |              1.6 |       0.069 |                    15 |                     59 |    0.9964 | 3.3  |        0.46 |       9.4 |         5 |\n",
    "|  7 |             7.3 |               0.65 |          0    |              1.2 |       0.065 |                    15 |                     21 |    0.9946 | 3.39 |        0.47 |      10   |         7 |\n",
    "|  8 |             7.8 |               0.58 |          0.02 |              2   |       0.073 |                     9 |                     18 |    0.9968 | 3.36 |        0.57 |       9.5 |         7 |\n",
    "|  9 |             7.5 |               0.5  |          0.36 |              6.1 |       0.071 |                    17 |                    102 |    0.9978 | 3.35 |        0.8  |      10.5 |         5 |"
   ]
  },
  {
   "cell_type": "code",
   "execution_count": null,
   "metadata": {},
   "outputs": [],
   "source": [
    "import pandas as pd\n",
    "\n",
    "df = pd.read_csv(\"https://archive.ics.uci.edu/ml/machine-learning-databases/wine-quality/winequality-red.csv\")\n",
    "df.head(10)"
   ]
  },
  {
   "cell_type": "markdown",
   "metadata": {},
   "source": [
    "## Handeling Errors\n",
    "\n",
    "Sometime we will run into errors that we need to check for and handel.\n",
    "\n",
    "Try fixing these errors with if statements or [try except](https://docs.python.org/3/tutorial/errors.html) statements."
   ]
  },
  {
   "cell_type": "code",
   "execution_count": null,
   "metadata": {},
   "outputs": [],
   "source": [
    "def super_complex_calculation(number):\n",
    "    import numpy as np\n",
    "    return 1/np.random.randint(0, 10)\n",
    "\n",
    "for number in range(0,20):\n",
    "    x = super_complex_calculation(number)\n",
    "    print(x)"
   ]
  },
  {
   "cell_type": "code",
   "execution_count": null,
   "metadata": {},
   "outputs": [],
   "source": []
  },
  {
   "cell_type": "code",
   "execution_count": null,
   "metadata": {},
   "outputs": [],
   "source": []
  },
  {
   "cell_type": "code",
   "execution_count": null,
   "metadata": {},
   "outputs": [],
   "source": []
  },
  {
   "cell_type": "markdown",
   "metadata": {},
   "source": [
    "## Library Errors\n",
    "\n",
    "Errors from libraries can be long and complicatied.\n",
    "\n",
    "Tips for reading long errors:\n",
    "\n",
    "1) The top lines will show where in your code there is a problem\n",
    "\n",
    "2) At the bottom will be the error type and a small description\n",
    "\n",
    "3) Everything inbetween is the libraries code. Unless you wrote the library don't worry too much about it.\n"
   ]
  },
  {
   "cell_type": "code",
   "execution_count": null,
   "metadata": {},
   "outputs": [],
   "source": [
    "import numpy as np\n",
    "def add():\n",
    "    x = np.array([1, '2', 3])\n",
    "    y = np.array([4,5,6])\n",
    "    return x+y\n",
    "\n",
    "z = add()"
   ]
  },
  {
   "cell_type": "code",
   "execution_count": null,
   "metadata": {},
   "outputs": [],
   "source": [
    "def subtract():\n",
    "    x = np.array([1, 2, 3])\n",
    "    y = np.array([4, 5, 6, 7])\n",
    "    return y-x\n",
    "\n",
    "subtract()"
   ]
  },
  {
   "cell_type": "markdown",
   "metadata": {},
   "source": [
    "Tips for reading long errors:\n",
    "\n",
    "1) The top lines will show where in your code there is a problem:\n",
    "```python\n",
    "---------------------------------------------------------------------------\n",
    "TypeError                                 Traceback (most recent call last)\n",
    "<ipython-input-43-06e2c3fb7763> in <module>\n",
    "      1 hist = np.random.randint(0, 10, 1000)\n",
    "----> 2 plt.hist(hist, bins=3, range=4)\n",
    "      3 plt.show()\n",
    "```\n",
    "\n",
    "2) At the bottom will be the error type and a small description\n",
    "\n",
    "```python\n",
    "TypeError: cannot unpack non-iterable int object\n",
    "```\n",
    "\n",
    "Python is telling you that one of the input varialbe types in this function is wrong. It's useful to look at the documentation for the function to see what each of the types should be. (https://matplotlib.org/api/_as_gen/matplotlib.pyplot.hist.html)\n",
    "\n",
    "3) Everything inbetween is the libraries code. Unless you wrote the library don't worry too much about it."
   ]
  },
  {
   "cell_type": "code",
   "execution_count": null,
   "metadata": {},
   "outputs": [],
   "source": [
    "import matplotlib.pyplot as plt\n",
    "\n",
    "random_hist = np.random.randint(0, 10, 1000)\n",
    "plt.hist(random_hist, bins=10, range=4)\n",
    "plt.show()"
   ]
  }
 ],
 "metadata": {
  "kernelspec": {
   "display_name": "Python 3.7.5 64-bit",
   "language": "python",
   "name": "python37564bitc9f4667cf123493a96eaeb84da79cdb8"
  },
  "language_info": {
   "codemirror_mode": {
    "name": "ipython",
    "version": 3
   },
   "file_extension": ".py",
   "mimetype": "text/x-python",
   "name": "python",
   "nbconvert_exporter": "python",
   "pygments_lexer": "ipython3",
   "version": "3.7.7"
  }
 },
 "nbformat": 4,
 "nbformat_minor": 2
}
