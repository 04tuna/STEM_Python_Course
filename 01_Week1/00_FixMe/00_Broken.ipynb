{
 "cells": [
  {
   "cell_type": "code",
   "execution_count": null,
   "metadata": {},
   "outputs": [],
   "source": [
    "%matplotlib inline\n",
    "import numpy as np\n",
    "import matplotlib.pyplot as plt\n",
    "# https://inventwithpython.com/blog/2012/07/09/16-common-python-runtime-errors-beginners-find/"
   ]
  },
  {
   "cell_type": "code",
   "execution_count": null,
   "metadata": {},
   "outputs": [],
   "source": [
    "print(\"Hello\")\n",
    "    print(\"world\")"
   ]
  },
  {
   "cell_type": "code",
   "execution_count": null,
   "metadata": {},
   "outputs": [],
   "source": [
    "def Hello()\n",
    "    print(\"Hello World\")"
   ]
  },
  {
   "cell_type": "code",
   "execution_count": null,
   "metadata": {},
   "outputs": [],
   "source": [
    "science = ['biology', 'physics', 'chemistry']\n",
    "for i in range(sciences):\n",
    "    print(science[i])"
   ]
  },
  {
   "cell_type": "code",
   "execution_count": null,
   "metadata": {},
   "outputs": [],
   "source": [
    "spam = 'My favorite food is Spam!'\n",
    "\n",
    "print(spam[40])"
   ]
  },
  {
   "cell_type": "code",
   "execution_count": null,
   "metadata": {},
   "outputs": [],
   "source": [
    "myName = 'Monty Python'\n",
    "\n",
    "print('My name is ' + myName + . How are you?')"
   ]
  },
  {
   "cell_type": "code",
   "execution_count": null,
   "metadata": {},
   "outputs": [],
   "source": [
    "class = ['biology', 'physics', 'chemistry']"
   ]
  },
  {
   "cell_type": "code",
   "execution_count": null,
   "metadata": {},
   "outputs": [],
   "source": [
    "def answer(MyAnswer):\n",
    "    if MyAnswer = 42:\n",
    "        print(\"Wow you got the answer!\")\n",
    "    else:\n",
    "        print(\"Wrong Answer\")\n",
    "        \n",
    "answer(42)\n",
    "answer()"
   ]
  },
  {
   "cell_type": "code",
   "execution_count": null,
   "metadata": {},
   "outputs": [],
   "source": [
    "def goodBye():\n",
    "    for i in range(0,3):\n",
    "        output.append(\"Bye\")\n",
    "    return output\n",
    "        \n",
    "goodBye()"
   ]
  },
  {
   "cell_type": "markdown",
   "metadata": {},
   "source": [
    "### Handeling Errors\n",
    "\n",
    "Sometime we will run into errors that we need to check for and handel.\n",
    "\n",
    "Try fixing this with a \"try except\"\n",
    "\n",
    "https://docs.python.org/3/tutorial/errors.html"
   ]
  },
  {
   "cell_type": "code",
   "execution_count": null,
   "metadata": {},
   "outputs": [],
   "source": [
    "def super_complex_calculation(number):\n",
    "    return np.random.randint(0, 10)\n",
    "\n",
    "for number in range(0,20):\n",
    "    x = super_complex_calculation(number)\n",
    "    print(1/x)"
   ]
  },
  {
   "cell_type": "markdown",
   "metadata": {},
   "source": [
    "### Library Errors\n",
    "\n",
    "Errors from libraries can be long and complicatied.\n",
    "\n",
    "Tips for reading long errors:\n",
    "\n",
    "1) The top lines will show where in your code there is a problem:\n",
    "```python\n",
    "---------------------------------------------------------------------------\n",
    "TypeError                                 Traceback (most recent call last)\n",
    "<ipython-input-43-06e2c3fb7763> in <module>\n",
    "      1 hist = np.random.randint(0, 10, 1000)\n",
    "----> 2 plt.hist(hist, bins=3, range=4)\n",
    "      3 plt.show()\n",
    "```\n",
    "\n",
    "2) At the bottom will be the error type and a small description\n",
    "\n",
    "```python\n",
    "TypeError: cannot unpack non-iterable int object\n",
    "```\n",
    "\n",
    "Python is telling you that one of the input varialbe types in this function is wrong. It's useful to look at the documentation for the function to see what each of the types should be. (https://matplotlib.org/api/_as_gen/matplotlib.pyplot.hist.html)\n",
    "\n",
    "3) Everything inbetween is the libraries code. Unless you wrote the library don't worry too much about it."
   ]
  },
  {
   "cell_type": "code",
   "execution_count": null,
   "metadata": {},
   "outputs": [],
   "source": [
    "random_hist = np.random.randint(0, 10, 1000)\n",
    "plt.hist(random_hist, bins=10, range=4)\n",
    "plt.show()"
   ]
  },
  {
   "cell_type": "code",
   "execution_count": null,
   "metadata": {},
   "outputs": [],
   "source": []
  }
 ],
 "metadata": {
  "kernelspec": {
   "display_name": "Python 3.7.5 64-bit",
   "language": "python",
   "name": "python37564bitc9f4667cf123493a96eaeb84da79cdb8"
  },
  "language_info": {
   "codemirror_mode": {
    "name": "ipython",
    "version": 3
   },
   "file_extension": ".py",
   "mimetype": "text/x-python",
   "name": "python",
   "nbconvert_exporter": "python",
   "pygments_lexer": "ipython3",
   "version": "3.7.7"
  }
 },
 "nbformat": 4,
 "nbformat_minor": 2
}
