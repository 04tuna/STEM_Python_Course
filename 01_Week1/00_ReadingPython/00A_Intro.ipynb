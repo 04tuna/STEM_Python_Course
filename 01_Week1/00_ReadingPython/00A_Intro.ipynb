{
 "cells": [
  {
   "cell_type": "markdown",
   "metadata": {},
   "source": [
    "# Welcome to the First Day of the Python for STEM Beginner Week!\n"
   ]
  },
  {
   "cell_type": "markdown",
   "metadata": {},
   "source": [
    "# Day 1 Schedule - Introduction to Python\n",
    "* 8:30  Introductions, Overview of the week\n",
    "* 8:50  Getting repl.it set up (accessing the resources)\n",
    "* 9:30  Understanding Python Vocabulary\n",
    "* 10:45  Reading Python Programs\n",
    "* 11:45  Wrap up"
   ]
  },
  {
   "cell_type": "markdown",
   "metadata": {},
   "source": [
    "# Below are links to the resources for the day"
   ]
  },
  {
   "cell_type": "markdown",
   "metadata": {},
   "source": [
    "## [Introductory Presentation](https://docs.google.com/presentation/d/1Ax2IB1lcuJM9RdKISdMi-7wqaAQw2k2Mx8cbfvd9AcU/edit?usp=sharing)"
   ]
  },
  {
   "cell_type": "markdown",
   "metadata": {},
   "source": [
    "## [Vocabulary Breakout Groups Document](https://docs.google.com/presentation/d/1WZp9upfId1k8lAF4t4pGZvaM-YnZtBShKLLWFexOTwQ/edit?usp=sharing)"
   ]
  },
  {
   "cell_type": "markdown",
   "metadata": {},
   "source": [
    "## See Presentation for additional activities"
   ]
  },
  {
   "cell_type": "code",
   "execution_count": null,
   "metadata": {},
   "outputs": [],
   "source": []
  }
 ],
 "metadata": {
  "kernelspec": {
   "display_name": "Python 3",
   "language": "python",
   "name": "python3"
  },
  "language_info": {
   "codemirror_mode": {
    "name": "ipython",
    "version": 3
   },
   "file_extension": ".py",
   "mimetype": "text/x-python",
   "name": "python",
   "nbconvert_exporter": "python",
   "pygments_lexer": "ipython3",
   "version": "3.7.3"
  }
 },
 "nbformat": 4,
 "nbformat_minor": 2
}
