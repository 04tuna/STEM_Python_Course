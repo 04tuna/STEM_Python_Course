{
 "cells": [
  {
   "cell_type": "code",
   "execution_count": null,
   "metadata": {},
   "outputs": [],
   "source": [
    "%matplotlib inline\n",
    "import os\n",
    "import numpy as np\n",
    "import pandas as pd\n",
    "import matplotlib.pyplot as plt\n",
    "from matplotlib.dates import DateFormatter, date2num\n",
    "import datetime as dt\n",
    "import matplotlib.ticker as ticker\n",
    "import geopandas\n",
    "from shapely.geometry import shape\n",
    "from PIL import Image\n",
    "import glob\n",
    "from IPython.display import HTML\n",
    "\n",
    "# Load data from nytimes\n",
    "# Has data for each county in each state\n",
    "df = pd.read_csv('https://raw.githubusercontent.com/nytimes/covid-19-data/master/us-counties.csv', \n",
    "                 parse_dates=['date'])\n",
    "\n",
    "class dotdict(dict):\n",
    "    \"\"\"dot.notation access to dictionary attributes\"\"\"\n",
    "    __getattr__ = dict.get\n",
    "    __setattr__ = dict.__setitem__\n",
    "    __delattr__ = dict.__delitem__\n",
    "    \n",
    "    \n",
    "SC = dotdict({'name': \"South Carolina\", \n",
    "              'json': \"SC-45-south-carolina-counties\",\n",
    "              'county': \"Richland\",\n",
    "              'abr': \"SC\"\n",
    "             })\n"
   ]
  },
  {
   "cell_type": "code",
   "execution_count": null,
   "metadata": {},
   "outputs": [],
   "source": [
    "# Print the data\n",
    "df.head()"
   ]
  },
  {
   "cell_type": "code",
   "execution_count": null,
   "metadata": {},
   "outputs": [],
   "source": [
    "# Select South Carolina\n",
    "state = df[df.state == SC.name]\n",
    "# Group by county for each date\n",
    "state = state.pivot(index='date', columns='county', values='cases')\n",
    "state = state.fillna(0.0)\n",
    "state.tail(5)"
   ]
  },
  {
   "cell_type": "code",
   "execution_count": null,
   "metadata": {},
   "outputs": [],
   "source": [
    "plot = state.plot(figsize=(12,8), linewidth=5, cmap='PuBu')\n",
    "plot.legend(ncol=2, bbox_to_anchor=(1, 1), loc='upper left')\n",
    "plt.show()"
   ]
  },
  {
   "cell_type": "code",
   "execution_count": null,
   "metadata": {
    "scrolled": false
   },
   "outputs": [],
   "source": [
    "# Show plotting inside of pandas\n",
    "plot = state.Richland.plot(figsize=(12,8), linewidth=5, legend=True)\n",
    "plot = state.Lexington.plot(linewidth=5, legend=True)"
   ]
  },
  {
   "cell_type": "code",
   "execution_count": null,
   "metadata": {},
   "outputs": [],
   "source": [
    "# Show plotting inside of pandas (log this time)\n",
    "plot = state.Richland.plot(figsize=(12,8), linewidth=5, legend=True)\n",
    "plot = state.Lexington.plot(linewidth=5, legend=True)\n",
    "plot.set_yscale('log')"
   ]
  },
  {
   "cell_type": "code",
   "execution_count": null,
   "metadata": {},
   "outputs": [],
   "source": [
    "# Show how to plot dates with matplotlib plot_date\n",
    "\n",
    "fig, ax = plt.subplots(figsize=(16,9))\n",
    "\n",
    "days_to_average = 5\n",
    "\n",
    "dates = date2num(state.index)\n",
    "ax.plot_date(dates, state.Richland.rolling(days_to_average).mean()*days_to_average, fmt='-', linewidth=5)\n",
    "ax.plot_date(dates, state.Lexington.rolling(days_to_average).mean()*days_to_average, fmt='-', linewidth=5)\n",
    "date_form = DateFormatter(\"%b-%d\")\n",
    "ax.xaxis.set_major_formatter(date_form)\n",
    "ax.set_yscale('log')\n",
    "plt.show()"
   ]
  },
  {
   "cell_type": "code",
   "execution_count": null,
   "metadata": {},
   "outputs": [],
   "source": [
    "# Copy data\n",
    "new_per_day = state.copy(deep=True)\n",
    "\n",
    "# Get difference per day instead of total cases\n",
    "for county in state.columns:\n",
    "    new_per_day[county] = new_per_day[county].diff()\n",
    "new_per_day = new_per_day.fillna(0.0)\n",
    "new_per_day.tail(5) \n"
   ]
  },
  {
   "cell_type": "code",
   "execution_count": null,
   "metadata": {},
   "outputs": [],
   "source": [
    "# Plot difference\n",
    "# Looks jumpy....\n",
    "plot = new_per_day.Richland.plot(figsize=(12,8), linewidth=5, legend=True)\n",
    "\n",
    "#plot.set_yscale('log')\n"
   ]
  },
  {
   "cell_type": "code",
   "execution_count": null,
   "metadata": {
    "scrolled": false
   },
   "outputs": [],
   "source": [
    "# Plot again using matplotib\n",
    "fig, ax = plt.subplots(figsize=(16,9))\n",
    "\n",
    "# Average over the last two weeks\n",
    "rolling_days = 7\n",
    "\n",
    "dates = date2num(state.index)\n",
    "npd_richland_avg = new_per_day.Richland.rolling(rolling_days).mean()\n",
    "\n",
    "# This time we do rolling mean to take some of the jittering out\n",
    "ax.plot_date(dates, npd_richland_avg, fmt='-', linewidth=5)\n",
    "\n",
    "# Plot trend line for the last set of days averaged over\n",
    "z = np.polyfit(dates[-rolling_days:], npd_richland_avg[-rolling_days:], 1)\n",
    "p = np.poly1d(z)\n",
    "ax.plot(dates[-rolling_days:],p(dates[-rolling_days:]),'--', linewidth=3, label=f'Trend for last {rolling_days} days')\n",
    "ax.bar(dates, new_per_day.Richland, alpha=0.2)\n",
    "\n",
    "date_form = DateFormatter(\"%b-%d\")\n",
    "ax.xaxis.set_major_formatter(date_form)\n",
    "#ax.set_yscale('log')\n",
    "ax.legend()\n",
    "plt.show()"
   ]
  },
  {
   "cell_type": "code",
   "execution_count": null,
   "metadata": {
    "scrolled": false
   },
   "outputs": [],
   "source": [
    "# Get geometry data\n",
    "# https://github.com/deldersveld/topojson\n",
    "geodata = geopandas.read_file(\"https://raw.githubusercontent.com/deldersveld/topojson/master/countries/us-states/SC-45-south-carolina-counties.json\")"
   ]
  },
  {
   "cell_type": "code",
   "execution_count": null,
   "metadata": {
    "scrolled": false
   },
   "outputs": [],
   "source": [
    "fig, ax = plt.subplots(figsize=(16,9))\n",
    "geodata.plot(color=\"white\", edgecolor='black', ax=ax)\n",
    "max_count = np.max(state.max(axis=0))\n",
    "\n",
    "geodata[\"color\"] = np.zeros_like(geodata.NAME)\n",
    "\n",
    "for c in state.iteritems():\n",
    "    geodata.loc[geodata.NAME == c[0], 'color'] = c[1][-1]/max_count\n",
    "\n",
    "geodata.plot(column='color', ax=ax, cmap='PuBu')\n",
    "ax.set_title(\"Current Cases in SC\")\n",
    "ax.set_yticklabels([])\n",
    "ax.set_xticklabels([])\n",
    "ax.get_yaxis().set_visible(False)\n",
    "ax.get_xaxis().set_visible(False)\n",
    "plt.show()\n",
    "plt.close()"
   ]
  },
  {
   "cell_type": "code",
   "execution_count": null,
   "metadata": {
    "scrolled": false
   },
   "outputs": [],
   "source": [
    "# Get max from data and max of all the counties\n",
    "max_count = np.max(state.T.max(axis=0))\n",
    "total = state.T.sum()\n",
    "\n",
    "# Count is used to save images\n",
    "count = 0\n",
    "\n",
    "os.mkdir(\"sc_gif\") if not os.path.isdir(\"sc_gif\") else None\n",
    "\n",
    "for date, row in state.T.iteritems():\n",
    "    fig, ax = plt.subplots(figsize=(16,9))\n",
    "    geodata.plot(color='white',ax=ax, edgecolor='k')\n",
    "    for c in row.iteritems():\n",
    "        color = c[1]/max_count\n",
    "        geodata.loc[geodata.NAME == c[0], 'color'] = color\n",
    "    \n",
    "    geodata.plot(column='color', ax=ax, cmap='PuBu')\n",
    "\n",
    "    ax.set_title(f\"{date.month_name()} {date.day}\\nTotal Cases: {int(total[count])}\")\n",
    "    ax.set_yticklabels([])\n",
    "    ax.set_xticklabels([])\n",
    "    ax.get_yaxis().set_visible(False)\n",
    "    ax.get_xaxis().set_visible(False)\n",
    "    count += 1\n",
    "    fig.savefig(f\"sc_gif/{count:03}.png\")\n",
    "    plt.close()"
   ]
  },
  {
   "cell_type": "code",
   "execution_count": null,
   "metadata": {},
   "outputs": [],
   "source": [
    "# Create the frames\n",
    "frames = []\n",
    "imgs = glob.glob(\"sc_gif/*.png\")\n",
    "imgs = np.sort(imgs)\n",
    "\n",
    "for i in imgs:\n",
    "    new_frame = Image.open(i)\n",
    "    frames.append(new_frame)\n",
    "\n",
    "# Pause on the last frame for longer\n",
    "for i in range(0,20):\n",
    "    frames.append(Image.open(imgs[-1]))\n",
    "\n",
    "# Save into a GIF file that loops forever\n",
    "frames[0].save('cases_in_sc.gif', format='GIF',\n",
    "               append_images=frames[1:],\n",
    "               save_all=True,\n",
    "               duration=600, loop=0)\n"
   ]
  },
  {
   "cell_type": "code",
   "execution_count": null,
   "metadata": {},
   "outputs": [],
   "source": [
    "# Show gif in jupyter\n",
    "HTML('<img src=\"cases_in_sc.gif\">')"
   ]
  },
  {
   "cell_type": "code",
   "execution_count": null,
   "metadata": {},
   "outputs": [],
   "source": []
  }
 ],
 "metadata": {
  "kernelspec": {
   "display_name": "Python 3",
   "language": "python",
   "name": "python3"
  },
  "language_info": {
   "codemirror_mode": {
    "name": "ipython",
    "version": 3
   },
   "file_extension": ".py",
   "mimetype": "text/x-python",
   "name": "python",
   "nbconvert_exporter": "python",
   "pygments_lexer": "ipython3",
   "version": "3.7.7"
  }
 },
 "nbformat": 4,
 "nbformat_minor": 2
}
