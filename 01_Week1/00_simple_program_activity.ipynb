{
 "cells": [
  {
   "cell_type": "markdown",
   "metadata": {},
   "source": [
    "# 1a \n",
    "Set a variable called \"myNumber\" equal to an integer at the top of your cell, then print it."
   ]
  },
  {
   "cell_type": "code",
   "execution_count": null,
   "metadata": {},
   "outputs": [],
   "source": [
    "# A\n",
    "# myNumber = 8\n",
    "# print(myNumber)\n",
    "\n",
    "# B\n",
    "# myNumber = 7.3\n",
    "# print(myNumber)\n",
    "\n",
    "# C\n",
    "# myNumber = 18\n",
    "# print myNumber"
   ]
  },
  {
   "cell_type": "markdown",
   "metadata": {},
   "source": [
    "# 1b\n",
    "Add a second variable called \"guess\", and set it to a different number. Then add an if/else statement that checks if \"guess\" and \"myNumber\" are the same number. If they are, print \"You got it!\", otherwise print \"Try again.\" You can remove the print statement from the previous problem."
   ]
  },
  {
   "cell_type": "code",
   "execution_count": null,
   "metadata": {},
   "outputs": [],
   "source": [
    "####PASTE YOUR ANSWER FROM PROBLEM 1a HERE######\n",
    "#\n",
    "#\n",
    "\n",
    "# A\n",
    "# guess = 23\n",
    "# for number in [7,4,2,8]:\n",
    "#     if number == guess:\n",
    "#         print('You got it!')\n",
    "#     else:\n",
    "#         print('Try again.')\n",
    "\n",
    "# B\n",
    "# guess = 8\n",
    "# if guess == myNumber:\n",
    "#     print('You got it!')\n",
    "# else:\n",
    "#     print('Try again.')\n",
    "\n",
    "# C\n",
    "# guess = 18\n",
    "# if guess != myNumber:\n",
    "#     print('You got it!')\n",
    "# else:\n",
    "#     print('Try again.')"
   ]
  },
  {
   "cell_type": "markdown",
   "metadata": {},
   "source": [
    "# 1c\n",
    "Ammend your if/else statement to have some extra conditions. Instead of just checking to see if the numbers are equal, check if the guess is less than, greater than, or equal to your number. Print whichever case it is. For example if your number is 10 and the guess is 4, it should print something like \"Too low!\"."
   ]
  },
  {
   "cell_type": "code",
   "execution_count": null,
   "metadata": {},
   "outputs": [],
   "source": [
    "####Paste the \"myNumber\" and \"guess\" variable declarations here. \n",
    "# \n",
    "# \n",
    "\n",
    "# A\n",
    "# if guess < myNumber:\n",
    "#     print('Too low!')\n",
    "# elif guess > myNumber:\n",
    "#     print('Too high!')\n",
    "# else:\n",
    "#     print('You got it!')\n",
    "\n",
    "# B\n",
    "# if guess == myNumber:\n",
    "#     print('Too low!')\n",
    "# elif guess > myNumber:\n",
    "#     print('Too high!')\n",
    "# else:\n",
    "#     print('You got it!')\n",
    "\n",
    "# C\n",
    "# if guess != myNumber:\n",
    "#     print('You got it!')\n",
    "# elif guess > myNumber:\n",
    "#     print('Too high!')\n",
    "# else:\n",
    "#     print('Too low!') "
   ]
  },
  {
   "cell_type": "markdown",
   "metadata": {},
   "source": [
    "# 1d\n",
    "Replace the \"guess\" variable from problem 1b with an input number from a user. You can get an input from a user using the \"input\" function. Have the input function print something like \"What is your guess?\". Note that any input from the user will arrive as a \"string\" type, whereas the variable you'll be comparing against will be of \"integer\" type. You can convert from string to integer using the \"int()\" function. Other than this, leave everything the same."
   ]
  },
  {
   "cell_type": "code",
   "execution_count": null,
   "metadata": {},
   "outputs": [],
   "source": [
    "####PASTE YOUR FINAL CODE FROM PROBLEM 1c HERE. Replace the \"guess\" variable with #######\n",
    "# one of the following\n",
    "# \n",
    "\n",
    "\n",
    "# A \n",
    "# print('What is your guess?')\n",
    "# guess = 17\n",
    "\n",
    "# B\n",
    "# guess = input('What is your guess?')\n",
    "\n",
    "# C\n",
    "# guess = int(input('What is your guess?'))\n"
   ]
  },
  {
   "cell_type": "markdown",
   "metadata": {},
   "source": [
    "You should now have a working program that allows you to guess a number, and then it tells you if it was too low, too high, or just right compared to the number you set at the top. "
   ]
  },
  {
   "cell_type": "markdown",
   "metadata": {},
   "source": [
    "# 2a\n",
    "Set a variable equal to anything you want at the top of the cell (a number, a word, etc.), and call it \"myVariable\". Create another variable called \"number_of_prints\", and set it equal to some integer number (e.g. 5). Use a for loop to print \"myVariable\" \"number_of_prints\" times. So for example if your variable called \"myVariable\" was set to be the string \"hello\", and \"number_of_prints\" was set to 3, running your cell should produce the following:\n",
    "\n",
    "hello\n",
    "\n",
    "hello\n",
    "\n",
    "hello"
   ]
  },
  {
   "cell_type": "code",
   "execution_count": null,
   "metadata": {},
   "outputs": [],
   "source": [
    "# A\n",
    "# myVariable='hello'\n",
    "# number_of_prints = 8.3\n",
    "# for i in range(number_of_prints):\n",
    "#     print(myVariable)\n",
    "\n",
    "# B\n",
    "# myVariable = 'hello'\n",
    "# number_of_prints = 5\n",
    "# for i in range(number_of_prints):\n",
    "#     print(myVariable)\n",
    "\n",
    "# C\n",
    "# myVariable = 'hello'\n",
    "# number_of_prints = 5\n",
    "# for i in number_of_prints:\n",
    "#     print(myVariable)"
   ]
  },
  {
   "cell_type": "markdown",
   "metadata": {},
   "source": [
    "# 2b\n",
    "Instead of just printing a word, use your code from 2a and problem 1d to ask for a new letter on every loop iteration, then print it. You should be able to copy and paste the line of code containing the \"input\" function from 1d into your code from 2a, inside of the for loop (replacing the print statement). "
   ]
  },
  {
   "cell_type": "code",
   "execution_count": null,
   "metadata": {},
   "outputs": [],
   "source": [
    "####COMBINE 1d and 2a BELOW####\n",
    "# When run, you should be asked to input a number \"number_of_prints\" times.\n",
    "#\n",
    "\n",
    "\n",
    "\n"
   ]
  },
  {
   "cell_type": "markdown",
   "metadata": {},
   "source": [
    "# 3 \n",
    "Take the rest of your code from problem 1 and put it inside of the for loop as well. Replace the variable \"myVariable\" with your \"myNumber\" variable from problem 1a. The code should now ask for a guess on every loop iteration, and compare it to the \"myNumber\" variable. "
   ]
  },
  {
   "cell_type": "code",
   "execution_count": null,
   "metadata": {},
   "outputs": [],
   "source": [
    "####ADD YOUR SOLUTION TO PART 1d\n",
    "#\n",
    "#\n",
    "\n",
    "\n",
    "\n",
    "\n"
   ]
  },
  {
   "cell_type": "markdown",
   "metadata": {},
   "source": [
    "# That's it!\n",
    "You wrote a simple guessing game! Some optional stuff to add:\n",
    "\n",
    "1. Have the loop stop if you get the answer right. This can be done with the \"break\" statement.\n",
    "\n",
    "2. Keep track of the number of guesses on each loop iteration. When the guess is eventually correct, print the number of tries in addition to the statement that says the guess was correct. "
   ]
  },
  {
   "cell_type": "code",
   "execution_count": null,
   "metadata": {},
   "outputs": [],
   "source": []
  }
 ],
 "metadata": {
  "kernelspec": {
   "display_name": "Python 3",
   "language": "python",
   "name": "python3"
  },
  "language_info": {
   "codemirror_mode": {
    "name": "ipython",
    "version": 3
   },
   "file_extension": ".py",
   "mimetype": "text/x-python",
   "name": "python",
   "nbconvert_exporter": "python",
   "pygments_lexer": "ipython3",
   "version": "3.6.8"
  }
 },
 "nbformat": 4,
 "nbformat_minor": 2
}
